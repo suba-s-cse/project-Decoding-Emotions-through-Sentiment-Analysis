{
  "cells": [
    {
      "cell_type": "markdown",
      "metadata": {
        "id": "9nsCflePnkD4"
      },
      "source": [
        "Upload the Dataset"
      ]
    },
    {
      "cell_type": "code",
      "execution_count": null,
      "metadata": {
        "colab": {
          "base_uri": "https://localhost:8080/",
          "height": 73
        },
        "id": "sJyplLZ9nouF",
        "outputId": "b742bc56-3283-492c-99e6-606a173c6b27"
      },
      "outputs": [
        {
          "output_type": "display_data",
          "data": {
            "text/plain": [
              "<IPython.core.display.HTML object>"
            ],
            "text/html": [
              "\n",
              "     <input type=\"file\" id=\"files-67e3bcf2-2809-4fd0-9785-082f3dcb270d\" name=\"files[]\" multiple disabled\n",
              "        style=\"border:none\" />\n",
              "     <output id=\"result-67e3bcf2-2809-4fd0-9785-082f3dcb270d\">\n",
              "      Upload widget is only available when the cell has been executed in the\n",
              "      current browser session. Please rerun this cell to enable.\n",
              "      </output>\n",
              "      <script>// Copyright 2017 Google LLC\n",
              "//\n",
              "// Licensed under the Apache License, Version 2.0 (the \"License\");\n",
              "// you may not use this file except in compliance with the License.\n",
              "// You may obtain a copy of the License at\n",
              "//\n",
              "//      http://www.apache.org/licenses/LICENSE-2.0\n",
              "//\n",
              "// Unless required by applicable law or agreed to in writing, software\n",
              "// distributed under the License is distributed on an \"AS IS\" BASIS,\n",
              "// WITHOUT WARRANTIES OR CONDITIONS OF ANY KIND, either express or implied.\n",
              "// See the License for the specific language governing permissions and\n",
              "// limitations under the License.\n",
              "\n",
              "/**\n",
              " * @fileoverview Helpers for google.colab Python module.\n",
              " */\n",
              "(function(scope) {\n",
              "function span(text, styleAttributes = {}) {\n",
              "  const element = document.createElement('span');\n",
              "  element.textContent = text;\n",
              "  for (const key of Object.keys(styleAttributes)) {\n",
              "    element.style[key] = styleAttributes[key];\n",
              "  }\n",
              "  return element;\n",
              "}\n",
              "\n",
              "// Max number of bytes which will be uploaded at a time.\n",
              "const MAX_PAYLOAD_SIZE = 100 * 1024;\n",
              "\n",
              "function _uploadFiles(inputId, outputId) {\n",
              "  const steps = uploadFilesStep(inputId, outputId);\n",
              "  const outputElement = document.getElementById(outputId);\n",
              "  // Cache steps on the outputElement to make it available for the next call\n",
              "  // to uploadFilesContinue from Python.\n",
              "  outputElement.steps = steps;\n",
              "\n",
              "  return _uploadFilesContinue(outputId);\n",
              "}\n",
              "\n",
              "// This is roughly an async generator (not supported in the browser yet),\n",
              "// where there are multiple asynchronous steps and the Python side is going\n",
              "// to poll for completion of each step.\n",
              "// This uses a Promise to block the python side on completion of each step,\n",
              "// then passes the result of the previous step as the input to the next step.\n",
              "function _uploadFilesContinue(outputId) {\n",
              "  const outputElement = document.getElementById(outputId);\n",
              "  const steps = outputElement.steps;\n",
              "\n",
              "  const next = steps.next(outputElement.lastPromiseValue);\n",
              "  return Promise.resolve(next.value.promise).then((value) => {\n",
              "    // Cache the last promise value to make it available to the next\n",
              "    // step of the generator.\n",
              "    outputElement.lastPromiseValue = value;\n",
              "    return next.value.response;\n",
              "  });\n",
              "}\n",
              "\n",
              "/**\n",
              " * Generator function which is called between each async step of the upload\n",
              " * process.\n",
              " * @param {string} inputId Element ID of the input file picker element.\n",
              " * @param {string} outputId Element ID of the output display.\n",
              " * @return {!Iterable<!Object>} Iterable of next steps.\n",
              " */\n",
              "function* uploadFilesStep(inputId, outputId) {\n",
              "  const inputElement = document.getElementById(inputId);\n",
              "  inputElement.disabled = false;\n",
              "\n",
              "  const outputElement = document.getElementById(outputId);\n",
              "  outputElement.innerHTML = '';\n",
              "\n",
              "  const pickedPromise = new Promise((resolve) => {\n",
              "    inputElement.addEventListener('change', (e) => {\n",
              "      resolve(e.target.files);\n",
              "    });\n",
              "  });\n",
              "\n",
              "  const cancel = document.createElement('button');\n",
              "  inputElement.parentElement.appendChild(cancel);\n",
              "  cancel.textContent = 'Cancel upload';\n",
              "  const cancelPromise = new Promise((resolve) => {\n",
              "    cancel.onclick = () => {\n",
              "      resolve(null);\n",
              "    };\n",
              "  });\n",
              "\n",
              "  // Wait for the user to pick the files.\n",
              "  const files = yield {\n",
              "    promise: Promise.race([pickedPromise, cancelPromise]),\n",
              "    response: {\n",
              "      action: 'starting',\n",
              "    }\n",
              "  };\n",
              "\n",
              "  cancel.remove();\n",
              "\n",
              "  // Disable the input element since further picks are not allowed.\n",
              "  inputElement.disabled = true;\n",
              "\n",
              "  if (!files) {\n",
              "    return {\n",
              "      response: {\n",
              "        action: 'complete',\n",
              "      }\n",
              "    };\n",
              "  }\n",
              "\n",
              "  for (const file of files) {\n",
              "    const li = document.createElement('li');\n",
              "    li.append(span(file.name, {fontWeight: 'bold'}));\n",
              "    li.append(span(\n",
              "        `(${file.type || 'n/a'}) - ${file.size} bytes, ` +\n",
              "        `last modified: ${\n",
              "            file.lastModifiedDate ? file.lastModifiedDate.toLocaleDateString() :\n",
              "                                    'n/a'} - `));\n",
              "    const percent = span('0% done');\n",
              "    li.appendChild(percent);\n",
              "\n",
              "    outputElement.appendChild(li);\n",
              "\n",
              "    const fileDataPromise = new Promise((resolve) => {\n",
              "      const reader = new FileReader();\n",
              "      reader.onload = (e) => {\n",
              "        resolve(e.target.result);\n",
              "      };\n",
              "      reader.readAsArrayBuffer(file);\n",
              "    });\n",
              "    // Wait for the data to be ready.\n",
              "    let fileData = yield {\n",
              "      promise: fileDataPromise,\n",
              "      response: {\n",
              "        action: 'continue',\n",
              "      }\n",
              "    };\n",
              "\n",
              "    // Use a chunked sending to avoid message size limits. See b/62115660.\n",
              "    let position = 0;\n",
              "    do {\n",
              "      const length = Math.min(fileData.byteLength - position, MAX_PAYLOAD_SIZE);\n",
              "      const chunk = new Uint8Array(fileData, position, length);\n",
              "      position += length;\n",
              "\n",
              "      const base64 = btoa(String.fromCharCode.apply(null, chunk));\n",
              "      yield {\n",
              "        response: {\n",
              "          action: 'append',\n",
              "          file: file.name,\n",
              "          data: base64,\n",
              "        },\n",
              "      };\n",
              "\n",
              "      let percentDone = fileData.byteLength === 0 ?\n",
              "          100 :\n",
              "          Math.round((position / fileData.byteLength) * 100);\n",
              "      percent.textContent = `${percentDone}% done`;\n",
              "\n",
              "    } while (position < fileData.byteLength);\n",
              "  }\n",
              "\n",
              "  // All done.\n",
              "  yield {\n",
              "    response: {\n",
              "      action: 'complete',\n",
              "    }\n",
              "  };\n",
              "}\n",
              "\n",
              "scope.google = scope.google || {};\n",
              "scope.google.colab = scope.google.colab || {};\n",
              "scope.google.colab._files = {\n",
              "  _uploadFiles,\n",
              "  _uploadFilesContinue,\n",
              "};\n",
              "})(self);\n",
              "</script> "
            ]
          },
          "metadata": {}
        },
        {
          "output_type": "stream",
          "name": "stdout",
          "text": [
            "Saving trainer_schedule_report.csv to trainer_schedule_report.csv\n"
          ]
        }
      ],
      "source": [
        "from google.colab import files\n",
        "uploaded = files.upload()"
      ]
    },
    {
      "cell_type": "markdown",
      "metadata": {
        "id": "upU6itK1bFiX"
      },
      "source": [
        " Load the Dataset\n"
      ]
    },
    {
      "cell_type": "code",
      "execution_count": null,
      "metadata": {
        "colab": {
          "base_uri": "https://localhost:8080/"
        },
        "id": "f48WcJjEookk",
        "outputId": "8ca15c4b-b9d1-4e08-85a2-3f36d842f8fc"
      },
      "outputs": [
        {
          "name": "stdout",
          "output_type": "stream",
          "text": [
            "                                   text   emotion\n",
            "0              I'm feeling great today!       joy\n",
            "1  This is so frustrating and annoying.     anger\n",
            "2                   I miss you so much.   sadness\n",
            "3          I’m scared about the future.      fear\n",
            "4            What a wonderful surprise!  surprise\n"
          ]
        }
      ],
      "source": [
        "import pandas as pd\n",
        "\n",
        "# Sample data (manually defined)\n",
        "data = [\n",
        "    {\"text\": \"I'm feeling great today!\", \"emotion\": \"joy\"},\n",
        "    {\"text\": \"This is so frustrating and annoying.\", \"emotion\": \"anger\"},\n",
        "    {\"text\": \"I miss you so much.\", \"emotion\": \"sadness\"},\n",
        "    {\"text\": \"I’m scared about the future.\", \"emotion\": \"fear\"},\n",
        "    {\"text\": \"What a wonderful surprise!\", \"emotion\": \"surprise\"}\n",
        "]\n",
        "\n",
        "# Create DataFrame\n",
        "df = pd.DataFrame(data)\n",
        "\n",
        "# Display the data\n",
        "print(df)"
      ]
    },
    {
      "cell_type": "markdown",
      "metadata": {
        "id": "aRjDEmygpIh9"
      },
      "source": [
        "Data Exploration"
      ]
    },
    {
      "cell_type": "code",
      "execution_count": null,
      "metadata": {
        "colab": {
          "base_uri": "https://localhost:8080/",
          "height": 1000
        },
        "id": "OOhphUXbpLdM",
        "outputId": "5895d5e4-7938-409d-83df-fde97a377c0a"
      },
      "outputs": [
        {
          "name": "stdout",
          "output_type": "stream",
          "text": [
            "Dataset Preview:\n",
            "                                    text   emotion\n",
            "0              I'm feeling great today!       joy\n",
            "1  This is so frustrating and annoying.     anger\n",
            "2                   I miss you so much.   sadness\n",
            "3          I’m scared about the future.      fear\n",
            "4            What a wonderful surprise!  surprise\n",
            "\n",
            "Dataset Shape: (10, 2)\n",
            "\n",
            "Data Types:\n",
            " text       object\n",
            "emotion    object\n",
            "dtype: object\n",
            "\n",
            "Missing Values:\n",
            " text       0\n",
            "emotion    0\n",
            "dtype: int64\n",
            "\n",
            "Emotion Distribution:\n",
            " emotion\n",
            "joy         2\n",
            "anger       2\n",
            "sadness     2\n",
            "fear        2\n",
            "surprise    2\n",
            "Name: count, dtype: int64\n"
          ]
        },
        {
          "name": "stderr",
          "output_type": "stream",
          "text": [
            "<ipython-input-2-260aa0b94f69>:39: FutureWarning: \n",
            "\n",
            "Passing `palette` without assigning `hue` is deprecated and will be removed in v0.14.0. Assign the `x` variable to `hue` and set `legend=False` for the same effect.\n",
            "\n",
            "  sns.countplot(data=df, x='emotion', palette='Set2')\n"
          ]
        },
        {
          "data": {
            "image/png": "[encoded data removed]",
            "text/plain": [
              "<Figure size 800x500 with 1 Axes>"
            ]
          },
          "metadata": {},
          "output_type": "display_data"
        }
      ],
      "source": [
        "import pandas as pd\n",
        "import matplotlib.pyplot as plt\n",
        "import seaborn as sns\n",
        "\n",
        "# Sample social media emotion dataset\n",
        "data = [\n",
        "    {\"text\": \"I'm feeling great today!\", \"emotion\": \"joy\"},\n",
        "    {\"text\": \"This is so frustrating and annoying.\", \"emotion\": \"anger\"},\n",
        "    {\"text\": \"I miss you so much.\", \"emotion\": \"sadness\"},\n",
        "    {\"text\": \"I’m scared about the future.\", \"emotion\": \"fear\"},\n",
        "    {\"text\": \"What a wonderful surprise!\", \"emotion\": \"surprise\"},\n",
        "    {\"text\": \"I’m so proud of myself!\", \"emotion\": \"joy\"},\n",
        "    {\"text\": \"Everything is going wrong!\", \"emotion\": \"anger\"},\n",
        "    {\"text\": \"I just want to cry.\", \"emotion\": \"sadness\"},\n",
        "    {\"text\": \"That really shocked me!\", \"emotion\": \"surprise\"},\n",
        "    {\"text\": \"I feel anxious and nervous.\", \"emotion\": \"fear\"}\n",
        "]\n",
        "\n",
        "# Create DataFrame\n",
        "df = pd.DataFrame(data)\n",
        "\n",
        "# Display first few rows\n",
        "print(\"Dataset Preview:\\n\", df.head())\n",
        "\n",
        "# Dataset shape\n",
        "print(\"\\nDataset Shape:\", df.shape)\n",
        "\n",
        "# Data types\n",
        "print(\"\\nData Types:\\n\", df.dtypes)\n",
        "\n",
        "# Check for missing values\n",
        "print(\"\\nMissing Values:\\n\", df.isnull().sum())\n",
        "\n",
        "# Emotion class distribution\n",
        "print(\"\\nEmotion Distribution:\\n\", df['emotion'].value_counts())\n",
        "\n",
        "# Plotting emotion distribution\n",
        "plt.figure(figsize=(8, 5))\n",
        "sns.countplot(data=df, x='emotion', palette='Set2')\n",
        "plt.title('Emotion Distribution in Social Media Posts')\n",
        "plt.xlabel('Emotion')\n",
        "plt.ylabel('Count')\n",
        "plt.grid(True)\n",
        "plt.tight_layout()\n",
        "plt.show()\n"
      ]
    },
    {
      "cell_type": "markdown",
      "metadata": {
        "id": "ewFgqVgjqpxo"
      },
      "source": [
        "Check for Missing Values and Duplicates"
      ]
    },
    {
      "cell_type": "code",
      "execution_count": null,
      "metadata": {
        "colab": {
          "background_save": true
        },
        "id": "NqCz9QgzwmPP"
      },
      "outputs": [],
      "source": [
        "import pandas as pd\n",
        "\n",
        "# Sample data (no CSV)\n",
        "data = [\n",
        "    {\"text\": \"I'm feeling great today!\", \"emotion\": \"joy\"},\n",
        "    {\"text\": \"This is so frustrating and annoying.\", \"emotion\": \"anger\"},\n",
        "    {\"text\": \"I miss you so much.\", \"emotion\": \"sadness\"},\n",
        "    {\"text\": \"I’m scared about the future.\", \"emotion\": \"fear\"},\n",
        "    {\"text\": \"What a wonderful surprise!\", \"emotion\": \"surprise\"},\n",
        "    {\"text\": \"I’m so proud of myself!\", \"emotion\": \"joy\"},\n",
        "    {\"text\": \"Everything is going wrong!\", \"emotion\": \"anger\"},\n",
        "    {\"text\": \"I just want to cry.\", \"emotion\": \"sadness\"},\n",
        "    {\"text\": \"That really shocked me!\", \"emotion\": \"surprise\"},\n",
        "    {\"text\": \"I feel anxious and nervous.\", \"emotion\": \"fear\"}\n",
        "]\n",
        "df = pd.DataFrame(data)\n",
        "print(\"Missing Values:\\n\", df.isnull().sum())\n",
        "print(\"\\nDuplicate rows:\", df.duplicated().sum())"
      ]
    },
    {
      "cell_type": "markdown",
      "metadata": {
        "id": "gMwRA0a_2Ewl"
      },
      "source": [
        "Visualize a Few Features"
      ]
    },
    {
      "cell_type": "code",
      "execution_count": null,
      "metadata": {
        "colab": {
          "base_uri": "https://localhost:8080/",
          "height": 564
        },
        "id": "OLNMc2bZ2Lz8",
        "outputId": "a0a46062-4b85-436a-e93e-67d77855c390"
      },
      "outputs": [
        {
          "output_type": "display_data",
          "data": {
            "text/plain": [
              "<Figure size 1000x600 with 1 Axes>"
            ],
            "image/png": "[encoded data removed]"
          },
          "metadata": {}
        }
      ],
      "source": [
        "import matplotlib.pyplot as plt\n",
        "from sklearn.feature_extraction.text import CountVectorizer\n",
        "import numpy as np\n",
        "\n",
        "# Fit the vectorizer on training data\n",
        "vec = CountVectorizer()\n",
        "X_train_vec = vec.fit_transform(X_train)\n",
        "\n",
        "# Get feature names (terms)\n",
        "features = np.array(vec.get_feature_names_out())\n",
        "\n",
        "# Sum the occurrences of each feature (term) across all documents\n",
        "term_freq = np.asarray(X_train_vec.sum(axis=0)).flatten()\n",
        "\n",
        "# Sort the features by frequency\n",
        "sorted_idx = np.argsort(term_freq)[::-1]\n",
        "top_n = 10  # Number of top terms to visualize\n",
        "top_features = features[sorted_idx][:top_n]\n",
        "top_freqs = term_freq[sorted_idx][:top_n]\n",
        "\n",
        "# Plot the top features\n",
        "plt.figure(figsize=(10, 6))\n",
        "plt.barh(top_features, top_freqs, color='skyblue')\n",
        "plt.xlabel('Frequency')\n",
        "plt.title(f'Top {top_n} Most Frequent Features in SociaMedia Text')\n",
        "plt.gca().invert_yaxis()  # To have the most frequent on top\n",
        "plt.show()\n"
      ]
    },
    {
      "cell_type": "markdown",
      "metadata": {
        "id": "DaJocG4w3QBC"
      },
      "source": [
        "Identify Target and Features"
      ]
    },
    {
      "cell_type": "code",
      "execution_count": null,
      "metadata": {
        "colab": {
          "background_save": true
        },
        "id": "AsOPAEPj3SNF"
      },
      "outputs": [],
      "source": [
        "from textblob import TextBlob\n",
        "\n",
        "# Sample social media posts\n",
        "posts = [\n",
        "    \"I love this new phone! It's amazing 😍\",\n",
        "    \"I'm so tired of this, everything is going wrong 😔\",\n",
        "    \"What a beautiful day, the sun is shining 🌞\",\n",
        "    \"This is terrible, I can't believe it! 😡\"\n",
        "]\n",
        "\n",
        "# Function to decode emotions\n",
        "def decode_emotions(posts):\n",
        "    for post in posts:\n",
        "        # Create a TextBlob object\n",
        "        blob = TextBlob(post)\n",
        "\n",
        "        # Get sentiment polarity (-1 to 1)\n",
        "        sentiment = blob.sentiment.polarity\n",
        "\n",
        "        # Classify sentiment into categories\n",
        "        if sentiment > 0:\n",
        "            emotion = 'Positive'\n",
        "        elif sentiment < 0:\n",
        "            emotion = 'Negative'\n",
        "        else:\n",
        "            emotion = 'Neutral'\n",
        "\n",
        "        print(f\"Post: {post}\\nEmotion: {emotion}\\nPolarity: {sentiment}\\n\")\n",
        "\n",
        "# Run the sentiment analysis\n",
        "decode_emotions(posts)\n"
      ]
    },
    {
      "cell_type": "markdown",
      "metadata": {
        "id": "fnZ8bmwK3hzo"
      },
      "source": [
        "Convert Categorical Columns to Numerical"
      ]
    },
    {
      "cell_type": "code",
      "execution_count": null,
      "metadata": {
        "colab": {
          "background_save": true
        },
        "id": "VnjCiDa73mG9"
      },
      "outputs": [],
      "source": [
        "import pandas as pd\n",
        "from sklearn.preprocessing import LabelEncoder\n",
        "\n",
        "# Sample dataset (social media posts and their sentiments)\n",
        "data = {\n",
        "    'Post': [\n",
        "        \"I love this phone! It's amazing 😍\",\n",
        "        \"I'm so tired of this, everything is bad 😞\",\n",
        "        \"What a beautiful day 🌞\",\n",
        "        \"This is horrible! 😡\"\n",
        "    ],\n",
        "    'Sentiment': ['Positive', 'Negative', 'Neutral', 'Negative']\n",
        "}\n",
        "\n",
        "# Convert to DataFrame\n",
        "df = pd.DataFrame(data)\n",
        "\n",
        "# Initialize LabelEncoder\n",
        "label_encoder = LabelEncoder()\n",
        "\n",
        "# Convert categorical 'Sentiment' column to numerical values\n",
        "df['Sentiment_Numerical'] = label_encoder.fit_transform(df['Sentiment'])\n",
        "\n",
        "# Show the transformed DataFrame\n",
        "print(df)\n"
      ]
    },
    {
      "cell_type": "markdown",
      "metadata": {
        "id": "B0NSIIeP3xMR"
      },
      "source": [
        "One-Hot Encoding"
      ]
    },
    {
      "cell_type": "code",
      "execution_count": null,
      "metadata": {
        "colab": {
          "background_save": true
        },
        "id": "3UP7DfwT315V"
      },
      "outputs": [],
      "source": [
        "import pandas as pd\n",
        "\n",
        "# Sample data: social media posts and their emotion labels\n",
        "data = {\n",
        "    'Post': [\n",
        "        \"This party is awesome! 🎉\",\n",
        "        \"I can't take this anymore... 😡\",\n",
        "        \"Feeling down today. Nothing's going right 😢\",\n",
        "        \"Such a peaceful evening 😊\"\n",
        "    ],\n",
        "    'Emotion': ['Happy', 'Angry', 'Sad', 'Happy']\n",
        "}\n",
        "\n",
        "# Convert to DataFrame\n",
        "df = pd.DataFrame(data)\n",
        "\n",
        "# One-Hot Encode the 'Emotion' column\n",
        "df_encoded = pd.get_dummies(df, columns=['Emotion'], prefix='Emotion')\n",
        "\n",
        "# Print the result\n",
        "print(df_encoded)\n"
      ]
    },
    {
      "cell_type": "markdown",
      "metadata": {
        "id": "u__haSNi4aSj"
      },
      "source": [
        "Feature Scaling"
      ]
    },
    {
      "cell_type": "code",
      "execution_count": null,
      "metadata": {
        "colab": {
          "background_save": true
        },
        "id": "cpx1zskf4bLC"
      },
      "outputs": [],
      "source": [
        "!pip install scikit-learn pandas\n",
        "\n",
        "scaler = StandardScaler()\n",
        "scaled_features = scaler.fit_transform(tfidf_array)"
      ]
    },
    {
      "cell_type": "markdown",
      "metadata": {
        "id": "DbDhaRXu4kGT"
      },
      "source": [
        "Train-Test Split"
      ]
    },
    {
      "cell_type": "code",
      "execution_count": null,
      "metadata": {
        "colab": {
          "background_save": true
        },
        "id": "yXmNZqo_4ntq"
      },
      "outputs": [],
      "source": [
        "import pandas as pd\n",
        "from sklearn.model_selection import train_test_split\n",
        "\n",
        "# Assuming 'socialmedia_data.csv' contains your data with 'text' and 'emotion' columns\n",
        "# If the file has a different name, change it here\n",
        "try:\n",
        "    data = pd.read_csv('socialmedia_data.csv')\n",
        "except FileNotFoundError:\n",
        "    print(\"Error: 'socialmedia_data.csv' not found. Please make sure the file is in the correct directory or upload it.\")\n",
        "    # If the file needs to be uploaded, you can use:\n",
        "    # from google.colab import files\n",
        "    # uploaded = files.upload()\n",
        "    # Then adjust the filename in pd.read_csv accordingly\n",
        "else:\n",
        "    X_train, X_test, y_train, y_test = train_test_split(data['text'], data['emotion'], test_size=0.2, random_state=42)"
      ]
    },
    {
      "cell_type": "markdown",
      "metadata": {
        "id": "sIb8UNQr6_a7"
      },
      "source": [
        "Model Building"
      ]
    },
    {
      "cell_type": "code",
      "execution_count": null,
      "metadata": {
        "colab": {
          "background_save": true
        },
        "id": "xUcuX7Kq7GBZ"
      },
      "outputs": [],
      "source": [
        "from sklearn.model_selection import train_test_split\n",
        "from sklearn.feature_extraction.text import CountVectorizer\n",
        "from sklearn.naive_bayes import MultinomialNB\n",
        "\n",
        "texts = [\"I am happy\", \"I feel sad\", \"I'm so excited\", \"This is frustrating\"]\n",
        "labels = [\"happy\", \"sad\", \"happy\", \"angry\"]\n",
        "\n",
        "X_train, X_test, y_train, y_test = train_test_split(texts, labels)\n",
        "vec = CountVectorizer()\n",
        "X_train_vec = vec.fit_transform(X_train)\n",
        "model = MultinomialNB()\n",
        "model.fit(X_train_vec, y_train)\n"
      ]
    },
    {
      "cell_type": "markdown",
      "source": [
        "Evaluation"
      ],
      "metadata": {
        "id": "g_H2-FLP9z_t"
      }
    },
    {
      "cell_type": "code",
      "source": [
        "from textblob import TextBlob\n",
        "\n",
        "# Example social media posts\n",
        "tweets = [\n",
        "    \"I love the new phone update! So smooth and fast. 😍\",\n",
        "    \"Why does this app crash all the time? So annoying! 😡\",\n",
        "    \"Just another day, nothing special.\",\n",
        "    \"Feeling grateful for all the good things today. 😊\",\n",
        "    \"I'm tired of all the negativity in the news.\"\n",
        "]\n",
        "\n",
        "def analyze_sentiment(text):\n",
        "    blob = TextBlob(text)\n",
        "    polarity = blob.sentiment.polarity\n",
        "\n",
        "    if polarity > 0:\n",
        "        return \"Positive\"\n",
        "    elif polarity < 0:\n",
        "        return \"Negative\"\n",
        "    else:\n",
        "        return \"Neutral\"\n",
        "\n",
        "print(\"Tweet Sentiment Analysis:\\n\")\n",
        "for tweet in tweets:\n",
        "    sentiment = analyze_sentiment(tweet)\n",
        "    print(f\"Tweet: {tweet}\\nSentiment: {sentiment}\\n\")"
      ],
      "metadata": {
        "colab": {
          "base_uri": "https://localhost:8080/"
        },
        "id": "UuY5FIS094ys",
        "outputId": "c7752e6c-a029-4726-d011-9e3b131d9b1f"
      },
      "execution_count": null,
      "outputs": [
        {
          "output_type": "stream",
          "name": "stdout",
          "text": [
            "Tweet Sentiment Analysis:\n",
            "\n",
            "Tweet: I love the new phone update! So smooth and fast. 😍\n",
            "Sentiment: Positive\n",
            "\n",
            "Tweet: Why does this app crash all the time? So annoying! 😡\n",
            "Sentiment: Negative\n",
            "\n",
            "Tweet: Just another day, nothing special.\n",
            "Sentiment: Positive\n",
            "\n",
            "Tweet: Feeling grateful for all the good things today. 😊\n",
            "Sentiment: Positive\n",
            "\n",
            "Tweet: I'm tired of all the negativity in the news.\n",
            "Sentiment: Negative\n",
            "\n"
          ]
        }
      ]
    },
    {
      "cell_type": "markdown",
      "source": [
        "Make Predictions from New Input"
      ],
      "metadata": {
        "id": "AWUWmKaY-GNr"
      }
    },
    {
      "cell_type": "code",
      "source": [
        "new_text = [\"I can't stop smiling today!\", \"I'm really upset with everything\"]\n",
        "new_vec = vec.transform(new_text)\n",
        "predictions = model.predict(new_vec)\n",
        "print(predictions)"
      ],
      "metadata": {
        "colab": {
          "base_uri": "https://localhost:8080/"
        },
        "id": "9hc40a4W-KTG",
        "outputId": "0ee54e34-ca28-4d03-b088-de04d508a3a7"
      },
      "execution_count": null,
      "outputs": [
        {
          "output_type": "stream",
          "name": "stdout",
          "text": [
            "['happy' 'happy']\n"
          ]
        }
      ]
    },
    {
      "cell_type": "markdown",
      "source": [
        "Convert to DataFrame and Encode"
      ],
      "metadata": {
        "id": "wTF4GVlZ-Oc0"
      }
    },
    {
      "cell_type": "code",
      "source": [
        "import pandas as pd\n",
        "from sklearn.preprocessing import LabelEncoder\n",
        "\n",
        "# Sample data\n",
        "texts = [\"I am happy\", \"I feel sad\", \"I'm so excited\", \"This is frustrating\"]\n",
        "emotions = [\"happy\", \"sad\", \"happy\", \"angry\"]\n",
        "\n",
        "# Convert to DataFrame\n",
        "df = pd.DataFrame({'text': texts, 'emotion': emotions})\n",
        "\n",
        "# Encode emotions\n",
        "encoder = LabelEncoder()\n",
        "df['emotion_encoded'] = encoder.fit_transform(df['emotion'])\n",
        "\n",
        "print(df)"
      ],
      "metadata": {
        "colab": {
          "base_uri": "https://localhost:8080/"
        },
        "id": "J_KW_Mm2-SrM",
        "outputId": "115520cf-08a3-4718-a1ac-1e3733f4b035"
      },
      "execution_count": null,
      "outputs": [
        {
          "output_type": "stream",
          "name": "stdout",
          "text": [
            "                  text emotion  emotion_encoded\n",
            "0           I am happy   happy                1\n",
            "1           I feel sad     sad                2\n",
            "2       I'm so excited   happy                1\n",
            "3  This is frustrating   angry                0\n"
          ]
        }
      ]
    },
    {
      "cell_type": "markdown",
      "source": [
        "Predict the Final Grade"
      ],
      "metadata": {
        "id": "RBS8RJca-bZL"
      }
    },
    {
      "cell_type": "code",
      "source": [
        "from sklearn.preprocessing import LabelEncoder\n",
        "\n",
        "# Encode labels (if not already done)\n",
        "encoder = LabelEncoder()\n",
        "y_train_enc = encoder.fit_transform(y_train)\n",
        "model.fit(X_train_vec, y_train_enc)\n",
        "\n",
        "# Predict on new input\n",
        "new_text = [\"I don't know what to feel, it's overwhelming\"]\n",
        "new_vec = vec.transform(new_text)\n",
        "pred_encoded = model.predict(new_vec)\n",
        "pred_label = encoder.inverse_transform(pred_encoded)\n",
        "\n",
        "print(\"Predicted Emotion:\", pred_label[0])\n"
      ],
      "metadata": {
        "colab": {
          "base_uri": "https://localhost:8080/"
        },
        "id": "eOaCz9-9-fl1",
        "outputId": "0df3b377-ffeb-4704-b209-5ae9308f6b21"
      },
      "execution_count": null,
      "outputs": [
        {
          "output_type": "stream",
          "name": "stdout",
          "text": [
            "Predicted Emotion: sad\n"
          ]
        }
      ]
    },
    {
      "cell_type": "markdown",
      "source": [
        "Deployment-Building an Interactive App"
      ],
      "metadata": {
        "id": "3FeaAIY4-ndE"
      }
    },
    {
      "cell_type": "code",
      "source": [
        "!pip install gradio"
      ],
      "metadata": {
        "colab": {
          "base_uri": "https://localhost:8080/"
        },
        "id": "wm4f6KJw-04t",
        "outputId": "0f424087-585f-40f5-97ae-05aab2b75172"
      },
      "execution_count": null,
      "outputs": [
        {
          "output_type": "stream",
          "name": "stdout",
          "text": [
            "Collecting gradio\n",
            "  Downloading gradio-5.29.0-py3-none-any.whl.metadata (16 kB)\n",
            "Collecting aiofiles<25.0,>=22.0 (from gradio)\n",
            "  Downloading aiofiles-24.1.0-py3-none-any.whl.metadata (10 kB)\n",
            "Requirement already satisfied: anyio<5.0,>=3.0 in /usr/local/lib/python3.11/dist-packages (from gradio) (4.9.0)\n",
            "Collecting fastapi<1.0,>=0.115.2 (from gradio)\n",
            "  Downloading fastapi-0.115.12-py3-none-any.whl.metadata (27 kB)\n",
            "Collecting ffmpy (from gradio)\n",
            "  Downloading ffmpy-0.5.0-py3-none-any.whl.metadata (3.0 kB)\n",
            "Collecting gradio-client==1.10.0 (from gradio)\n",
            "  Downloading gradio_client-1.10.0-py3-none-any.whl.metadata (7.1 kB)\n",
            "Collecting groovy~=0.1 (from gradio)\n",
            "  Downloading groovy-0.1.2-py3-none-any.whl.metadata (6.1 kB)\n",
            "Requirement already satisfied: httpx>=0.24.1 in /usr/local/lib/python3.11/dist-packages (from gradio) (0.28.1)\n",
            "Requirement already satisfied: huggingface-hub>=0.28.1 in /usr/local/lib/python3.11/dist-packages (from gradio) (0.30.2)\n",
            "Requirement already satisfied: jinja2<4.0 in /usr/local/lib/python3.11/dist-packages (from gradio) (3.1.6)\n",
            "Requirement already satisfied: markupsafe<4.0,>=2.0 in /usr/local/lib/python3.11/dist-packages (from gradio) (3.0.2)\n",
            "Requirement already satisfied: numpy<3.0,>=1.0 in /usr/local/lib/python3.11/dist-packages (from gradio) (2.0.2)\n",
            "Requirement already satisfied: orjson~=3.0 in /usr/local/lib/python3.11/dist-packages (from gradio) (3.10.18)\n",
            "Requirement already satisfied: packaging in /usr/local/lib/python3.11/dist-packages (from gradio) (24.2)\n",
            "Requirement already satisfied: pandas<3.0,>=1.0 in /usr/local/lib/python3.11/dist-packages (from gradio) (2.2.2)\n",
            "Requirement already satisfied: pillow<12.0,>=8.0 in /usr/local/lib/python3.11/dist-packages (from gradio) (11.2.1)\n",
            "Requirement already satisfied: pydantic<2.12,>=2.0 in /usr/local/lib/python3.11/dist-packages (from gradio) (2.11.4)\n",
            "Collecting pydub (from gradio)\n",
            "  Downloading pydub-0.25.1-py2.py3-none-any.whl.metadata (1.4 kB)\n",
            "Collecting python-multipart>=0.0.18 (from gradio)\n",
            "  Downloading python_multipart-0.0.20-py3-none-any.whl.metadata (1.8 kB)\n",
            "Requirement already satisfied: pyyaml<7.0,>=5.0 in /usr/local/lib/python3.11/dist-packages (from gradio) (6.0.2)\n",
            "Collecting ruff>=0.9.3 (from gradio)\n",
            "  Downloading ruff-0.11.8-py3-none-manylinux_2_17_x86_64.manylinux2014_x86_64.whl.metadata (25 kB)\n",
            "Collecting safehttpx<0.2.0,>=0.1.6 (from gradio)\n",
            "  Downloading safehttpx-0.1.6-py3-none-any.whl.metadata (4.2 kB)\n",
            "Collecting semantic-version~=2.0 (from gradio)\n",
            "  Downloading semantic_version-2.10.0-py2.py3-none-any.whl.metadata (9.7 kB)\n",
            "Collecting starlette<1.0,>=0.40.0 (from gradio)\n",
            "  Downloading starlette-0.46.2-py3-none-any.whl.metadata (6.2 kB)\n",
            "Collecting tomlkit<0.14.0,>=0.12.0 (from gradio)\n",
            "  Downloading tomlkit-0.13.2-py3-none-any.whl.metadata (2.7 kB)\n",
            "Requirement already satisfied: typer<1.0,>=0.12 in /usr/local/lib/python3.11/dist-packages (from gradio) (0.15.3)\n",
            "Requirement already satisfied: typing-extensions~=4.0 in /usr/local/lib/python3.11/dist-packages (from gradio) (4.13.2)\n",
            "Collecting uvicorn>=0.14.0 (from gradio)\n",
            "  Downloading uvicorn-0.34.2-py3-none-any.whl.metadata (6.5 kB)\n",
            "Requirement already satisfied: fsspec in /usr/local/lib/python3.11/dist-packages (from gradio-client==1.10.0->gradio) (2025.3.2)\n",
            "Requirement already satisfied: websockets<16.0,>=10.0 in /usr/local/lib/python3.11/dist-packages (from gradio-client==1.10.0->gradio) (15.0.1)\n",
            "Requirement already satisfied: idna>=2.8 in /usr/local/lib/python3.11/dist-packages (from anyio<5.0,>=3.0->gradio) (3.10)\n",
            "Requirement already satisfied: sniffio>=1.1 in /usr/local/lib/python3.11/dist-packages (from anyio<5.0,>=3.0->gradio) (1.3.1)\n",
            "Requirement already satisfied: certifi in /usr/local/lib/python3.11/dist-packages (from httpx>=0.24.1->gradio) (2025.4.26)\n",
            "Requirement already satisfied: httpcore==1.* in /usr/local/lib/python3.11/dist-packages (from httpx>=0.24.1->gradio) (1.0.9)\n",
            "Requirement already satisfied: h11>=0.16 in /usr/local/lib/python3.11/dist-packages (from httpcore==1.*->httpx>=0.24.1->gradio) (0.16.0)\n",
            "Requirement already satisfied: filelock in /usr/local/lib/python3.11/dist-packages (from huggingface-hub>=0.28.1->gradio) (3.18.0)\n",
            "Requirement already satisfied: requests in /usr/local/lib/python3.11/dist-packages (from huggingface-hub>=0.28.1->gradio) (2.32.3)\n",
            "Requirement already satisfied: tqdm>=4.42.1 in /usr/local/lib/python3.11/dist-packages (from huggingface-hub>=0.28.1->gradio) (4.67.1)\n",
            "Requirement already satisfied: python-dateutil>=2.8.2 in /usr/local/lib/python3.11/dist-packages (from pandas<3.0,>=1.0->gradio) (2.9.0.post0)\n",
            "Requirement already satisfied: pytz>=2020.1 in /usr/local/lib/python3.11/dist-packages (from pandas<3.0,>=1.0->gradio) (2025.2)\n",
            "Requirement already satisfied: tzdata>=2022.7 in /usr/local/lib/python3.11/dist-packages (from pandas<3.0,>=1.0->gradio) (2025.2)\n",
            "Requirement already satisfied: annotated-types>=0.6.0 in /usr/local/lib/python3.11/dist-packages (from pydantic<2.12,>=2.0->gradio) (0.7.0)\n",
            "Requirement already satisfied: pydantic-core==2.33.2 in /usr/local/lib/python3.11/dist-packages (from pydantic<2.12,>=2.0->gradio) (2.33.2)\n",
            "Requirement already satisfied: typing-inspection>=0.4.0 in /usr/local/lib/python3.11/dist-packages (from pydantic<2.12,>=2.0->gradio) (0.4.0)\n",
            "Requirement already satisfied: click>=8.0.0 in /usr/local/lib/python3.11/dist-packages (from typer<1.0,>=0.12->gradio) (8.1.8)\n",
            "Requirement already satisfied: shellingham>=1.3.0 in /usr/local/lib/python3.11/dist-packages (from typer<1.0,>=0.12->gradio) (1.5.4)\n",
            "Requirement already satisfied: rich>=10.11.0 in /usr/local/lib/python3.11/dist-packages (from typer<1.0,>=0.12->gradio) (13.9.4)\n",
            "Requirement already satisfied: six>=1.5 in /usr/local/lib/python3.11/dist-packages (from python-dateutil>=2.8.2->pandas<3.0,>=1.0->gradio) (1.17.0)\n",
            "Requirement already satisfied: markdown-it-py>=2.2.0 in /usr/local/lib/python3.11/dist-packages (from rich>=10.11.0->typer<1.0,>=0.12->gradio) (3.0.0)\n",
            "Requirement already satisfied: pygments<3.0.0,>=2.13.0 in /usr/local/lib/python3.11/dist-packages (from rich>=10.11.0->typer<1.0,>=0.12->gradio) (2.19.1)\n",
            "Requirement already satisfied: charset-normalizer<4,>=2 in /usr/local/lib/python3.11/dist-packages (from requests->huggingface-hub>=0.28.1->gradio) (3.4.1)\n",
            "Requirement already satisfied: urllib3<3,>=1.21.1 in /usr/local/lib/python3.11/dist-packages (from requests->huggingface-hub>=0.28.1->gradio) (2.4.0)\n",
            "Requirement already satisfied: mdurl~=0.1 in /usr/local/lib/python3.11/dist-packages (from markdown-it-py>=2.2.0->rich>=10.11.0->typer<1.0,>=0.12->gradio) (0.1.2)\n",
            "Downloading gradio-5.29.0-py3-none-any.whl (54.1 MB)\n",
            "\u001b[2K   \u001b[90m━━━━━━━━━━━━━━━━━━━━━━━━━━━━━━━━━━━━━━━━\u001b[0m \u001b[32m54.1/54.1 MB\u001b[0m \u001b[31m12.8 MB/s\u001b[0m eta \u001b[36m0:00:00\u001b[0m\n",
            "\u001b[?25hDownloading gradio_client-1.10.0-py3-none-any.whl (322 kB)\n",
            "\u001b[2K   \u001b[90m━━━━━━━━━━━━━━━━━━━━━━━━━━━━━━━━━━━━━━━━\u001b[0m \u001b[32m322.9/322.9 kB\u001b[0m \u001b[31m23.0 MB/s\u001b[0m eta \u001b[36m0:00:00\u001b[0m\n",
            "\u001b[?25hDownloading aiofiles-24.1.0-py3-none-any.whl (15 kB)\n",
            "Downloading fastapi-0.115.12-py3-none-any.whl (95 kB)\n",
            "\u001b[2K   \u001b[90m━━━━━━━━━━━━━━━━━━━━━━━━━━━━━━━━━━━━━━━━\u001b[0m \u001b[32m95.2/95.2 kB\u001b[0m \u001b[31m7.2 MB/s\u001b[0m eta \u001b[36m0:00:00\u001b[0m\n",
            "\u001b[?25hDownloading groovy-0.1.2-py3-none-any.whl (14 kB)\n",
            "Downloading python_multipart-0.0.20-py3-none-any.whl (24 kB)\n",
            "Downloading ruff-0.11.8-py3-none-manylinux_2_17_x86_64.manylinux2014_x86_64.whl (11.5 MB)\n",
            "\u001b[2K   \u001b[90m━━━━━━━━━━━━━━━━━━━━━━━━━━━━━━━━━━━━━━━━\u001b[0m \u001b[32m11.5/11.5 MB\u001b[0m \u001b[31m67.7 MB/s\u001b[0m eta \u001b[36m0:00:00\u001b[0m\n",
            "\u001b[?25hDownloading safehttpx-0.1.6-py3-none-any.whl (8.7 kB)\n",
            "Downloading semantic_version-2.10.0-py2.py3-none-any.whl (15 kB)\n",
            "Downloading starlette-0.46.2-py3-none-any.whl (72 kB)\n",
            "\u001b[2K   \u001b[90m━━━━━━━━━━━━━━━━━━━━━━━━━━━━━━━━━━━━━━━━\u001b[0m \u001b[32m72.0/72.0 kB\u001b[0m \u001b[31m6.7 MB/s\u001b[0m eta \u001b[36m0:00:00\u001b[0m\n",
            "\u001b[?25hDownloading tomlkit-0.13.2-py3-none-any.whl (37 kB)\n",
            "Downloading uvicorn-0.34.2-py3-none-any.whl (62 kB)\n",
            "\u001b[2K   \u001b[90m━━━━━━━━━━━━━━━━━━━━━━━━━━━━━━━━━━━━━━━━\u001b[0m \u001b[32m62.5/62.5 kB\u001b[0m \u001b[31m5.1 MB/s\u001b[0m eta \u001b[36m0:00:00\u001b[0m\n",
            "\u001b[?25hDownloading ffmpy-0.5.0-py3-none-any.whl (6.0 kB)\n",
            "Downloading pydub-0.25.1-py2.py3-none-any.whl (32 kB)\n",
            "Installing collected packages: pydub, uvicorn, tomlkit, semantic-version, ruff, python-multipart, groovy, ffmpy, aiofiles, starlette, safehttpx, gradio-client, fastapi, gradio\n",
            "Successfully installed aiofiles-24.1.0 fastapi-0.115.12 ffmpy-0.5.0 gradio-5.29.0 gradio-client-1.10.0 groovy-0.1.2 pydub-0.25.1 python-multipart-0.0.20 ruff-0.11.8 safehttpx-0.1.6 semantic-version-2.10.0 starlette-0.46.2 tomlkit-0.13.2 uvicorn-0.34.2\n"
          ]
        }
      ]
    },
    {
      "cell_type": "markdown",
      "source": [
        "Create a Prediction Function"
      ],
      "metadata": {
        "id": "3ZXRp2go-6l1"
      }
    },
    {
      "cell_type": "code",
      "source": [
        "def predict_emotion(text):\n",
        "    vec_input = vec.transform([text])\n",
        "    pred_encoded = model.predict(vec_input)\n",
        "    return encoder.inverse_transform(pred_encoded)[0]\n",
        "\n",
        "# Example use\n",
        "print(predict_emotion(\"I am feeling wonderful today!\"))\n"
      ],
      "metadata": {
        "colab": {
          "base_uri": "https://localhost:8080/"
        },
        "id": "8H5KXyWU-7WN",
        "outputId": "4d91dc48-0c2a-4f75-f88a-3fcaaf3abc49"
      },
      "execution_count": null,
      "outputs": [
        {
          "output_type": "stream",
          "name": "stdout",
          "text": [
            "happy\n"
          ]
        }
      ]
    },
    {
      "cell_type": "markdown",
      "source": [
        "Create the Gradio Interface"
      ],
      "metadata": {
        "id": "Mpk0QWLI_Rd7"
      }
    },
    {
      "cell_type": "code",
      "source": [
        "import gradio as gr\n",
        "\n",
        "# Define the function to predict emotion\n",
        "def predict_emotion(text):\n",
        "    vec_input = vec.transform([text])\n",
        "    pred_encoded = model.predict(vec_input)\n",
        "    return encoder.inverse_transform(pred_encoded)[0]\n",
        "\n",
        "# Create Gradio Interface\n",
        "iface = gr.Interface(fn=predict_emotion,\n",
        "                     inputs=\"text\",\n",
        "                     outputs=\"text\",\n",
        "                     live=True,\n",
        "                     title=\"Emotion Decoding from Social Media Text\",\n",
        "                     description=\"Enter a social media text to predict its emotion.\")\n",
        "\n",
        "# Launch the interface\n",
        "iface.launch()\n"
      ],
      "metadata": {
        "colab": {
          "base_uri": "https://localhost:8080/",
          "height": 646
        },
        "id": "rCTPwnAb_M2v",
        "outputId": "b7fc4ca4-bd95-41cb-abd3-854853f1abf1"
      },
      "execution_count": null,
      "outputs": [
        {
          "output_type": "stream",
          "name": "stdout",
          "text": [
            "It looks like you are running Gradio on a hosted a Jupyter notebook. For the Gradio app to work, sharing must be enabled. Automatically setting `share=True` (you can turn this off by setting `share=False` in `launch()` explicitly).\n",
            "\n",
            "Colab notebook detected. To show errors in colab notebook, set debug=True in launch()\n",
            "* Running on public URL: https://8b5eed246368605108.gradio.live\n",
            "\n",
            "This share link expires in 1 week. For free permanent hosting and GPU upgrades, run `gradio deploy` from the terminal in the working directory to deploy to Hugging Face Spaces (https://huggingface.co/spaces)\n"
          ]
        },
        {
          "output_type": "display_data",
          "data": {
            "text/plain": [
              "<IPython.core.display.HTML object>"
            ],
            "text/html": [
              "<div><iframe src=\"https://8b5eed246368605108.gradio.live\" width=\"100%\" height=\"500\" allow=\"autoplay; camera; microphone; clipboard-read; clipboard-write;\" frameborder=\"0\" allowfullscreen></iframe></div>"
            ]
          },
          "metadata": {}
        },
        {
          "output_type": "execute_result",
          "data": {
            "text/plain": []
          },
          "metadata": {},
          "execution_count": 22
        }
      ]
    },
    {
      "cell_type": "markdown",
      "source": [],
      "metadata": {
        "id": "vurmtkA3_b1a"
      }
    }
  ],
  "metadata": {
    "colab": {
      "provenance": []
    },
    "kernelspec": {
      "display_name": "Python 3",
      "name": "python3"
    },
    "language_info": {
      "name": "python"
    }
  },
  "nbformat": 4,
  "nbformat_minor": 0
}